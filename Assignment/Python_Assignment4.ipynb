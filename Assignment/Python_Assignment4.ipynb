{
 "cells": [
  {
   "cell_type": "markdown",
   "metadata": {},
   "source": [
    "# Python_Assignment4"
   ]
  },
  {
   "cell_type": "markdown",
   "metadata": {},
   "source": [
    "#### 1.1 Write a Python Program(with class concepts) to find the area of the triangle using the below formula.\n",
    "#### area = (s*(s-a)*(s-b)*(s-c)) ** 0.5 \n",
    "#### Function to take the length of the sides of triangle from user should be defined in the parent class and function to calculate the area should be defined in subclass."
   ]
  },
  {
   "cell_type": "code",
   "execution_count": 9,
   "metadata": {},
   "outputs": [
    {
     "name": "stdout",
     "output_type": "stream",
     "text": [
      "Enter Side A length :4\n",
      "Enter Side B length :5\n",
      "Enter Side C length :6\n",
      "Area of traingle:9.92 \n"
     ]
    }
   ],
   "source": [
    "class Shape:\n",
    "    def __init__(self):\n",
    "        self.sideA=0\n",
    "        self.sideB=0\n",
    "        self.sideC=0\n",
    "        \n",
    "    def GetSidesLength(self):\n",
    "            self.sideA= int(input(\"Enter Side A length :\"))\n",
    "            self.sideB= int(input(\"Enter Side B length :\"))\n",
    "            self.sideC= int(input(\"Enter Side C length :\"))\n",
    "    \n",
    "class Triangle(Shape):\n",
    "    def CalculateArea(self):\n",
    "        try:\n",
    "            self.GetSidesLength()\n",
    "            s=(self.sideA+self.sideB+self.sideC)/2\n",
    "            area= (s*(s-self.sideA)*(s-self.sideB)*(s-self.sideC))**0.5\n",
    "            print(\"Area of traingle:{0} \".format(round(area,2)))\n",
    "        except Exception as err:\n",
    "            print(\"There is some error, please check\",err)\n",
    "            \n",
    "\n",
    "objTringle =Triangle()\n",
    "objTringle.CalculateArea()\n",
    "\n"
   ]
  },
  {
   "cell_type": "markdown",
   "metadata": {},
   "source": [
    "#### 1.2 Write a function filter_long_words() that takes a list of words and an integer n and returns the list of words that are longer than n."
   ]
  },
  {
   "cell_type": "code",
   "execution_count": 26,
   "metadata": {},
   "outputs": [
    {
     "name": "stdout",
     "output_type": "stream",
     "text": [
      "['filter_longword']\n"
     ]
    }
   ],
   "source": [
    "def filter_long_words(lstwords,length):\n",
    "     return list(filter(lambda word:len(word)>length,lstwords))\n",
    "\n",
    "lstofword=['THe','New','filter_longword']\n",
    "wordlen=4\n",
    "\n",
    "print(filter_long_words(lstofword,wordlen))        "
   ]
  },
  {
   "cell_type": "markdown",
   "metadata": {},
   "source": [
    "#### 2.1 Write a Python program using function concept that maps list of words into a list of integers representing the lengths of the corresponding words.\n",
    "#### Hint: If a list [ ab,cde,erty] is passed on to the python function output should come as [2,3,4]Here 2,3 and 4 are the lengths of the words in the list."
   ]
  },
  {
   "cell_type": "code",
   "execution_count": 27,
   "metadata": {},
   "outputs": [
    {
     "name": "stdout",
     "output_type": "stream",
     "text": [
      "[4, 4, 2, 3, 8]\n"
     ]
    }
   ],
   "source": [
    "lstword=['this','test','of','map','function']\n",
    "print(list(map(lambda word:len(word), lstword)))\n"
   ]
  },
  {
   "cell_type": "markdown",
   "metadata": {},
   "source": [
    "#### 2.2 Write a Python function which takes a character (i.e. a string of length 1) and returns True if it is a vowel, False otherwise."
   ]
  },
  {
   "cell_type": "code",
   "execution_count": 40,
   "metadata": {},
   "outputs": [
    {
     "name": "stdout",
     "output_type": "stream",
     "text": [
      "Please enter CharacterO\n",
      "Entered Charecter 'O' is Vowel\n"
     ]
    }
   ],
   "source": [
    "def IsVowel(char):\n",
    "    return char in ['a','A','e','E','I','i','o','O','u','U']\n",
    "\n",
    "userInput = input('Please enter Character')\n",
    "\n",
    "if (IsVowel(userInput)):\n",
    "    print(\"Entered Charecter '{0}' is Vowel\".format(userInput))\n",
    "else:\n",
    "    print(\"Entered Charecter '{0}' is not Vowel\".format(userInput))\n"
   ]
  },
  {
   "cell_type": "code",
   "execution_count": null,
   "metadata": {},
   "outputs": [],
   "source": []
  }
 ],
 "metadata": {
  "kernelspec": {
   "display_name": "Python 3",
   "language": "python",
   "name": "python3"
  },
  "language_info": {
   "codemirror_mode": {
    "name": "ipython",
    "version": 3
   },
   "file_extension": ".py",
   "mimetype": "text/x-python",
   "name": "python",
   "nbconvert_exporter": "python",
   "pygments_lexer": "ipython3",
   "version": "3.8.3"
  }
 },
 "nbformat": 4,
 "nbformat_minor": 4
}
