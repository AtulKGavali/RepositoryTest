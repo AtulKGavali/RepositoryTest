{
 "cells": [
  {
   "cell_type": "markdown",
   "metadata": {},
   "source": [
    "# Python_Assignment3"
   ]
  },
  {
   "cell_type": "markdown",
   "metadata": {},
   "source": [
    "1.1 Write a Python Program to implement your own myreduce() function which works exactly\n",
    "like Python's built-in function reduce()"
   ]
  },
  {
   "cell_type": "code",
   "execution_count": 163,
   "metadata": {},
   "outputs": [],
   "source": [
    "#This is custom reduce function use to accumulate result\n",
    "def myreduce(funcName,sequence):\n",
    "    final=0\n",
    "    if len(sequence)==0:\n",
    "        raise TypeError('TypeError: myreduce() of empty sequence with no initial value')\n",
    "    for i in range(0,len(sequence)):\n",
    "        if i==0:\n",
    "            if(type(sequence[i])=='str'):\n",
    "                final=''\n",
    "            else:\n",
    "                final=sequence[i]\n",
    "        else:\n",
    "            final=funcName(final,sequence[i])\n",
    "        \n",
    "    return final"
   ]
  },
  {
   "cell_type": "code",
   "execution_count": 165,
   "metadata": {},
   "outputs": [
    {
     "name": "stdout",
     "output_type": "stream",
     "text": [
      "Result of Numeric: [[1, 2, 3, 4, 5]]\n",
      "Result of String: DQMP\n"
     ]
    }
   ],
   "source": [
    "numLst=[1,2,3,4,5]\n",
    "numRes=myreduce(lambda x,y:x+y,[numLst])\n",
    "print('Result of Numeric:',[numRes])\n",
    "\n",
    "strList=['D','Q','M','P']\n",
    "strRes=myreduce(lambda x,y:x+y,strList)\n",
    "print('Result of String:',strRes)"
   ]
  },
  {
   "cell_type": "markdown",
   "metadata": {},
   "source": [
    "1.2 Write a Python program to implement your own myfilter() function which works exactly\n",
    "like Python's built-in function filter()"
   ]
  },
  {
   "cell_type": "code",
   "execution_count": 166,
   "metadata": {},
   "outputs": [],
   "source": [
    "#this is custom filter function use to filter list\n",
    "def myfilter(funcName,sequence):\n",
    "    for i in sequence:\n",
    "        if(funcName(i)):\n",
    "            yield i\n",
    "    "
   ]
  },
  {
   "cell_type": "code",
   "execution_count": null,
   "metadata": {},
   "outputs": [],
   "source": [
    "#fucntion to get only even numbers\n",
    "def even_check(num):\n",
    "    if num%2 ==0:\n",
    "        return True\n",
    "    \n",
    "lst =[1,2,3,4,5,6,7,8]\n",
    "\n",
    "list(myfilter(even_check,lst))"
   ]
  },
  {
   "cell_type": "markdown",
   "metadata": {},
   "source": [
    "#### 2. Implement List comprehensions to produce the following lists.\n",
    "Write List comprehensions to produce the following Lists\n",
    "['x', 'xx', 'xxx', 'xxxx', 'y', 'yy', 'yyy', 'yyyy', 'z', 'zz', 'zzz', 'zzzz']\n",
    "['x', 'y', 'z', 'xx', 'yy', 'zz', 'xxx', 'yyy', 'zzz', 'xxxx', 'yyyy', 'zzzz']\n",
    "[[2], [3], [4], [3], [4], [5], [4], [5], [6]] [[2, 3, 4, 5], [3, 4, 5, 6],\n",
    "[4, 5, 6, 7], [5, 6, 7, 8]]\n",
    "[(1, 1), (2, 1), (3, 1), (1, 2), (2, 2), (3, 2), (1, 3), (2, 3), (3, 3)]"
   ]
  },
  {
   "cell_type": "code",
   "execution_count": 29,
   "metadata": {},
   "outputs": [
    {
     "name": "stdout",
     "output_type": "stream",
     "text": [
      "['x', 'xx', 'xxx', 'xxxx', 'y', 'yy', 'yyy', 'yyyy', 'z', 'zz', 'zzz', 'zzzz']\n",
      "['x', 'y', 'z', 'xx', 'yy', 'zz', 'xxx', 'yyy', 'zzz', 'xxxx', 'yyyy', 'zzzz']\n",
      "[[2], [3], [4], [3], [4], [5], [4], [5], [6], [2, 3, 4, 5], [3, 4, 5, 6], [4, 5, 6, 7], [5, 6, 7, 8]]\n",
      "[(1, 1), (2, 1), (3, 1), (1, 2), (2, 2), (3, 2), (1, 3), (2, 3), (3, 3)]\n"
     ]
    }
   ],
   "source": [
    "lst1 =[char*i for char in ['x','y','z'] for i in range(1,5)]\n",
    "lst2 =[char*i for i in range(1,5) for char in ['x','y','z']]\n",
    "lst3 =[[j+i] for j in [1,2,3] for i in range(1,4)] +  [[j+1,j+2,j+3,j+4] for j in range(1,5)]\n",
    "lst4 =[(j,i) for i in range(1,4) for j in range(1,4)]\n",
    "print(\"{0}\\n{1}\\n{2}\\n{3}\".format(lst1,lst2,lst3,lst4))"
   ]
  },
  {
   "cell_type": "code",
   "execution_count": null,
   "metadata": {},
   "outputs": [],
   "source": []
  }
 ],
 "metadata": {
  "kernelspec": {
   "display_name": "Python 3",
   "language": "python",
   "name": "python3"
  },
  "language_info": {
   "codemirror_mode": {
    "name": "ipython",
    "version": 3
   },
   "file_extension": ".py",
   "mimetype": "text/x-python",
   "name": "python",
   "nbconvert_exporter": "python",
   "pygments_lexer": "ipython3",
   "version": "3.8.3"
  }
 },
 "nbformat": 4,
 "nbformat_minor": 4
}
